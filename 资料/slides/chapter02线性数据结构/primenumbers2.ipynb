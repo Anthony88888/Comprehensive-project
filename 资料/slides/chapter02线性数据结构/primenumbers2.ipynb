{
 "cells": [
  {
   "cell_type": "markdown",
   "metadata": {},
   "source": [
    "一、求100内的素数"
   ]
  },
  {
   "cell_type": "code",
   "execution_count": 5,
   "metadata": {},
   "outputs": [
    {
     "name": "stdout",
     "output_type": "stream",
     "text": [
      "9592\n",
      "0.285017\n",
      "------------------------------\n"
     ]
    }
   ],
   "source": [
    "#1 基本求解\n",
    "# 按照定义，从1 开始 到 n-1都没有找到整除它的数，就是质数\n",
    "import datetime\n",
    "\n",
    "start = datetime.datetime.now()\n",
    "n = 100000\n",
    "count = 0\n",
    "\n",
    "for x in range(2, n):\n",
    "    for i in range(2, int(x**0.5)+1):\n",
    "        if x % i == 0:\n",
    "            break\n",
    "    else:\n",
    "        count += 1\n",
    "        #print(x)\n",
    "\n",
    "delta = (datetime.datetime.now() - start).total_seconds()\n",
    "print(count)\n",
    "print(delta)\n",
    "print('-' * 30)\n"
   ]
  },
  {
   "cell_type": "code",
   "execution_count": 6,
   "metadata": {},
   "outputs": [
    {
     "name": "stdout",
     "output_type": "stream",
     "text": [
      "9592\n",
      "0.159009\n",
      "------------------------------\n"
     ]
    }
   ],
   "source": [
    "#1 奇数\n",
    "# 按照定义，从1 开始 到 n-1都没有找到整除它的数，就是质数\n",
    "import datetime\n",
    "\n",
    "start = datetime.datetime.now()\n",
    "n = 100000\n",
    "#print(2)\n",
    "count = 1\n",
    "\n",
    "for x in range(3, n, 2):\n",
    "    for i in range(3, int(x**0.5)+1, 2):\n",
    "        if x % i == 0:\n",
    "            break\n",
    "    else:\n",
    "        count += 1\n",
    "        #print(x)\n",
    "\n",
    "delta = (datetime.datetime.now() - start).total_seconds()\n",
    "print(count)\n",
    "print(delta)\n",
    "print('-' * 30)"
   ]
  },
  {
   "cell_type": "code",
   "execution_count": 10,
   "metadata": {},
   "outputs": [
    {
     "name": "stdout",
     "output_type": "stream",
     "text": [
      "9592\n",
      "3.779216\n",
      "------------------------------\n"
     ]
    }
   ],
   "source": [
    "#2 奇数 质数列表\n",
    "# 按照定义，从1 开始 到 n-1都没有找到整除它的数，就是质数\n",
    "# 合数一定是质数的乘积，合数分解后，一定是质数的乘积，合数一定可以找到一个质数来整除的\n",
    "import datetime\n",
    "\n",
    "start = datetime.datetime.now()\n",
    "n = 100000\n",
    "#print(2)\n",
    "count = 1\n",
    "primenumbers = []\n",
    "\n",
    "for x in range(3, n, 2): # 奇数\n",
    "    for i in primenumbers: # 从质数列表中提取质数\n",
    "        if x % i == 0: # 被质数整除了，说明是合数\n",
    "            break\n",
    "    else: # 质数\n",
    "        count += 1\n",
    "        primenumbers.append(x)\n",
    "\n",
    "delta = (datetime.datetime.now() - start).total_seconds()\n",
    "print(count)\n",
    "print(delta)\n",
    "print('-' * 30)"
   ]
  },
  {
   "cell_type": "code",
   "execution_count": 2,
   "metadata": {},
   "outputs": [
    {
     "name": "stdout",
     "output_type": "stream",
     "text": [
      "9592\n",
      "0.121007\n",
      "------------------------------\n"
     ]
    }
   ],
   "source": [
    "#3 奇数 质数列表，改进，判断所谓的“中点”， 开方值\n",
    "# 按照定义，从1 开始 到 n-1都没有找到整除它的数，就是质数\n",
    "# 合数一定是质数的乘积，合数分解后，一定是质数的乘积，合数一定可以找到一个质数来整除的\n",
    "import datetime\n",
    "\n",
    "start = datetime.datetime.now()\n",
    "n = 100000\n",
    "#print(2)\n",
    "count = 1\n",
    "primenumbers = []\n",
    "\n",
    "for x in range(3, n, 2): # 奇数\n",
    "    flag = True # 假定 flag 是质数\n",
    "    edge = int(x**0.5)\n",
    "    for i in primenumbers: # 从质数列表中提取质数\n",
    "        if x % i == 0: # 被质数整除了，说明是合数\n",
    "            flag = False\n",
    "            break\n",
    "        if i > edge: # 质数\n",
    "            flag = True\n",
    "            break\n",
    "    if flag: # 质数\n",
    "        count += 1\n",
    "        primenumbers.append(x)\n",
    "\n",
    "delta = (datetime.datetime.now() - start).total_seconds()\n",
    "print(count)\n",
    "print(delta)\n",
    "#print(primenumbers)\n",
    "print('-' * 30)"
   ]
  },
  {
   "cell_type": "code",
   "execution_count": null,
   "metadata": {},
   "outputs": [],
   "source": []
  },
  {
   "cell_type": "code",
   "execution_count": null,
   "metadata": {},
   "outputs": [],
   "source": [
    "# 5 孪生素数\n",
    "import datetime\n",
    "\n",
    "start = datetime.datetime.now()\n",
    "n = 100000\n",
    "#print(2, 3)\n",
    "count = 2\n",
    "\n",
    "for x in range(3, n, 2):\n",
    "for x in range()\n",
    "    for i in range(3, int(x**0.5)+1, 2):\n",
    "        if x % i == 0:\n",
    "            break\n",
    "    else:\n",
    "        count += 1\n",
    "        #print(x)\n",
    "\n",
    "delta = (datetime.datetime.now() - start).total_seconds()\n",
    "print(count)\n",
    "print(delta)\n",
    "print('-' * 30)"
   ]
  },
  {
   "cell_type": "code",
   "execution_count": 12,
   "metadata": {
    "scrolled": true
   },
   "outputs": [
    {
     "name": "stdout",
     "output_type": "stream",
     "text": [
      "9592\n",
      "0.133007\n",
      "------------------------------\n"
     ]
    }
   ],
   "source": [
    "# 5 孪生素数\n",
    "import datetime\n",
    "\n",
    "start = datetime.datetime.now()\n",
    "n = 100000\n",
    "#print(2, 3, 5)\n",
    "count = 3\n",
    "\n",
    "x[j+1] = a + 1\n",
    "\n",
    "x = 7\n",
    "step = 4\n",
    "while x < n:\n",
    "    if x % 5 != 0: \n",
    "        #print(x) # 测试是不是质数\n",
    "        for i in range(3, int(x**0.5)+1, 2):\n",
    "            if x % i == 0:\n",
    "                break\n",
    "        else:\n",
    "            count += 1\n",
    "            #print(x)\n",
    "\n",
    "    x += step # 7\n",
    "    step = 4 if step==2 else 2\n",
    "    \n",
    "    \n",
    "delta = (datetime.datetime.now() - start).total_seconds()\n",
    "print(count)\n",
    "print(delta)\n",
    "print('-' * 30)"
   ]
  },
  {
   "cell_type": "code",
   "execution_count": 1,
   "metadata": {},
   "outputs": [
    {
     "name": "stdout",
     "output_type": "stream",
     "text": [
      "9592\n",
      "0.122007\n",
      "------------------------------\n"
     ]
    }
   ],
   "source": [
    "# 6 孪生素数\n",
    "import datetime\n",
    "\n",
    "start = datetime.datetime.now()\n",
    "n = 100000\n",
    "#print(2, 3, 5)\n",
    "count = 3\n",
    "primenumbers = [3, 5]\n",
    "\n",
    "x = 7\n",
    "step = 4\n",
    "while x < n:\n",
    "    if x % 5 != 0: \n",
    "        #print(x) # 测试是不是质数\n",
    "        edge = x ** 0.5\n",
    "        flag = True\n",
    "        for i in primenumbers:\n",
    "            if x % i == 0:\n",
    "                flag = False\n",
    "                break\n",
    "            if i > edge:\n",
    "                flag = True\n",
    "                break\n",
    "        \n",
    "        if flag:\n",
    "            count += 1\n",
    "            primenumbers.append(x)\n",
    "            #print(x)\n",
    "\n",
    "    x += step # 7\n",
    "    step = 4 if step==2 else 2\n",
    "    \n",
    "    \n",
    "delta = (datetime.datetime.now() - start).total_seconds()\n",
    "print(count)\n",
    "print(delta)\n",
    "print('-' * 30)"
   ]
  },
  {
   "cell_type": "code",
   "execution_count": null,
   "metadata": {},
   "outputs": [],
   "source": []
  },
  {
   "cell_type": "code",
   "execution_count": 20,
   "metadata": {},
   "outputs": [
    {
     "name": "stdout",
     "output_type": "stream",
     "text": [
      "58.7 ms ± 2.62 ms per loop (mean ± std. dev. of 7 runs, 10 loops each)\n"
     ]
    }
   ],
   "source": [
    "%%timeit # 1\n",
    "n = 100000\n",
    "#print(2)\n",
    "count = 1\n",
    "primenumbers = []\n",
    "\n",
    "for x in range(3, n, 2): # 奇数\n",
    "    flag = True # 假定 flag 是质数\n",
    "    edge = int(x**0.5)\n",
    "    for i in primenumbers: # 从质数列表中提取质数\n",
    "        if x % i == 0: # 被质数整除了，说明是合数\n",
    "            flag = False\n",
    "            break\n",
    "        if i > edge: # 质数\n",
    "            flag = True\n",
    "            break\n",
    "    if flag: # 质数\n",
    "        count += 1\n",
    "        primenumbers.append(x)"
   ]
  },
  {
   "cell_type": "code",
   "execution_count": 25,
   "metadata": {},
   "outputs": [
    {
     "name": "stdout",
     "output_type": "stream",
     "text": [
      "980 ms ± 32.6 ms per loop (mean ± std. dev. of 7 runs, 1 loop each)\n"
     ]
    }
   ],
   "source": [
    "%%timeit # 2\n",
    "n = 1000000\n",
    "#print(2, 3, 5)\n",
    "count = 3\n",
    "primenumbers = [3, 5]\n",
    "\n",
    "x = 7\n",
    "step = 4\n",
    "while x < n: \n",
    "        #print(x) # 测试是不是质数\n",
    "    edge = int(x ** 0.5)\n",
    "    flag = True\n",
    "    for i in primenumbers:\n",
    "        if x % i == 0:\n",
    "            flag = False\n",
    "            break\n",
    "        if i > edge:\n",
    "            flag = True\n",
    "            break\n",
    "\n",
    "    if flag:\n",
    "        count += 1\n",
    "        primenumbers.append(x)\n",
    "        #print(x)\n",
    "\n",
    "    x += step # 7\n",
    "    step = 4 if step==2 else 2\n",
    "#print(count)"
   ]
  },
  {
   "cell_type": "code",
   "execution_count": 26,
   "metadata": {},
   "outputs": [
    {
     "name": "stdout",
     "output_type": "stream",
     "text": [
      "966 ms ± 40.5 ms per loop (mean ± std. dev. of 7 runs, 1 loop each)\n"
     ]
    }
   ],
   "source": [
    "%%timeit # 3\n",
    "n = 1000000\n",
    "#print(2, 3, 5)\n",
    "count = 3\n",
    "primenumbers = [3, 5]\n",
    "\n",
    "x = 7\n",
    "step = 4\n",
    "while x < n: \n",
    "        #print(x) # 测试是不是质数\n",
    "    if x % 5 != 0:\n",
    "        edge = int(x ** 0.5)\n",
    "        flag = True\n",
    "        for i in primenumbers:\n",
    "            if x % i == 0:\n",
    "                flag = False\n",
    "                break\n",
    "            if i > edge:\n",
    "                flag = True\n",
    "                break\n",
    "\n",
    "        if flag:\n",
    "            count += 1\n",
    "            primenumbers.append(x)\n",
    "            #print(x)\n",
    "\n",
    "    x += step # 7\n",
    "    step = 4 if step==2 else 2\n",
    "#print(count)"
   ]
  },
  {
   "cell_type": "code",
   "execution_count": null,
   "metadata": {},
   "outputs": [],
   "source": []
  },
  {
   "cell_type": "markdown",
   "metadata": {},
   "source": [
    "杨辉三角解法"
   ]
  },
  {
   "cell_type": "markdown",
   "metadata": {},
   "source": [
    "1 直接解法"
   ]
  },
  {
   "cell_type": "code",
   "execution_count": 13,
   "metadata": {},
   "outputs": [
    {
     "name": "stdout",
     "output_type": "stream",
     "text": [
      "[[1], [1, 1], [1, 2, 1], [1, 3, 3, 1], [1, 4, 6, 4, 1], [1, 5, 10, 10, 5, 1]]\n"
     ]
    }
   ],
   "source": [
    "triangle = [[1], [1, 1]] # 所有行\n",
    "\n",
    "for i in range(2, 6): # 行\n",
    "    row = [1] # 创建新行 \n",
    "    pre = triangle[i-1]\n",
    "    for j in range(i-1):\n",
    "        row.append(pre[j] + pre[j+1])\n",
    "    row.append(1)\n",
    "    \n",
    "    triangle.append(row)  \n",
    "\n",
    "print(triangle)"
   ]
  },
  {
   "cell_type": "code",
   "execution_count": null,
   "metadata": {},
   "outputs": [],
   "source": [
    "triangle = [] # 所有行\n",
    "\n",
    "for i in range(6): # 行\n",
    "    row = [1] # 创建新行 \n",
    "    triangle.append(row) \n",
    "    if i == 0: continue\n",
    "        \n",
    "    pre = triangle[i-1]\n",
    "    for j in range(i-1):\n",
    "        row.append(pre[j] + pre[j+1])\n",
    "    row.append(1)\n",
    "\n",
    "print(triangle)"
   ]
  },
  {
   "cell_type": "code",
   "execution_count": 19,
   "metadata": {},
   "outputs": [
    {
     "name": "stdout",
     "output_type": "stream",
     "text": [
      "[1]\n",
      "[1, 1]\n",
      "[1, 2, 1]\n",
      "[1, 3, 3, 1]\n",
      "[1, 4, 6, 4, 1]\n",
      "[1, 5, 10, 10, 5, 1]\n"
     ]
    }
   ],
   "source": [
    "# 2 补零\n",
    "\n",
    "oldline = [1] # 第一行是特例\n",
    "print(oldline)\n",
    "\n",
    "for i in range(1, 6):\n",
    "    oldline.append(0)\n",
    "    newline = []\n",
    "    for j in range(i+1): # 2\n",
    "        newline.append(oldline[j-1] + oldline[j])\n",
    "    print(newline)\n",
    "    oldline = newline\n"
   ]
  },
  {
   "cell_type": "code",
   "execution_count": 21,
   "metadata": {},
   "outputs": [
    {
     "name": "stdout",
     "output_type": "stream",
     "text": [
      "[[1], [1, 1], [1, 0, 1], [1, 0, 0, 1], [1, 0, 0, 0, 1], [1, 0, 0, 0, 0, 1]]\n"
     ]
    }
   ],
   "source": [
    "triangle = [[1], [1, 1]] # 所有行\n",
    "\n",
    "for i in range(2, 6): # 121\n",
    "    row = [1]\n",
    "    triangle.append(row)\n",
    "    for j in range(i): # 2  0 1\n",
    "        row.append(1) if j == i-1 else row.append(0)\n",
    "\n",
    "print(triangle)"
   ]
  },
  {
   "cell_type": "code",
   "execution_count": 29,
   "metadata": {},
   "outputs": [
    {
     "name": "stdout",
     "output_type": "stream",
     "text": [
      "[[1], [1, 1], [1, 2, 1], [1, 3, 3, 1], [1, 4, 6, 4, 1], [1, 5, 10, 10, 5, 1], [1, 6, 15, 20, 15, 6, 1]]\n"
     ]
    }
   ],
   "source": [
    "# 对称\n",
    "triangle = [[1], [1, 1]] # 所有行\n",
    "\n",
    "for i in range(2, 7): # 121\n",
    "    row = [1] * (i + 1) # 一次性开辟内存空间，效率更高\n",
    "    triangle.append(row)\n",
    "\n",
    "    for j in range(i//2): # i=4, range(2) => 0, 1\n",
    "        val = triangle[i-1][j] + triangle[i-1][j+1] # 1 3 3 1\n",
    "        row[j+1] = val\n",
    "        # ?\n",
    "        row[-(j+2)] = val # 有可能被重置\n",
    "\n",
    "print(triangle)"
   ]
  },
  {
   "cell_type": "code",
   "execution_count": 40,
   "metadata": {},
   "outputs": [
    {
     "name": "stdout",
     "output_type": "stream",
     "text": [
      "[1, 1, 1, 1, 1, 1, 1, 1, 1]\n",
      "[1]\n",
      "[1, 1]\n",
      "[1, 2, 1]\n",
      "[1, 3, 3, 1]\n",
      "[1, 4, 6, 4, 1]\n",
      "[1, 5, 10, 10, 5, 1]\n",
      "[1, 6, 15, 20, 15, 6, 1]\n",
      "[1, 7, 21, 35, 35, 21, 7, 1]\n",
      "[1, 8, 28, 56, 70, 56, 28, 8, 1]\n"
     ]
    }
   ],
   "source": [
    "# 单行\n",
    "\n",
    "\n",
    "n = 9\n",
    "line = [1] * n # 一次性开辟好于次次追加\n",
    "print(line)\n",
    "\n",
    "for i in range(n): # i\n",
    "    offset = n - i\n",
    "    swap = 1\n",
    "    for j in range(1, i//2+1): # i=3 range(1, 2) # 1\n",
    "#         val = swap + line[j] #line[j-1] + line[j]\n",
    "#         swap = line[j] # 3\n",
    "#         line[j] = val # 4\n",
    "        \n",
    "        line[j], swap = swap + line[j], line[j]\n",
    "        if i != 2*j:\n",
    "            line[-j-offset] = line[j]\n",
    "    \n",
    "    print(line[:i+1])\n",
    "    \n"
   ]
  },
  {
   "cell_type": "code",
   "execution_count": null,
   "metadata": {},
   "outputs": [],
   "source": []
  },
  {
   "cell_type": "code",
   "execution_count": null,
   "metadata": {},
   "outputs": [],
   "source": []
  },
  {
   "cell_type": "code",
   "execution_count": null,
   "metadata": {},
   "outputs": [],
   "source": []
  },
  {
   "cell_type": "code",
   "execution_count": null,
   "metadata": {},
   "outputs": [],
   "source": []
  },
  {
   "cell_type": "code",
   "execution_count": null,
   "metadata": {},
   "outputs": [],
   "source": []
  },
  {
   "cell_type": "code",
   "execution_count": null,
   "metadata": {},
   "outputs": [],
   "source": []
  },
  {
   "cell_type": "code",
   "execution_count": null,
   "metadata": {},
   "outputs": [],
   "source": []
  },
  {
   "cell_type": "code",
   "execution_count": null,
   "metadata": {},
   "outputs": [],
   "source": []
  },
  {
   "cell_type": "code",
   "execution_count": null,
   "metadata": {},
   "outputs": [],
   "source": []
  },
  {
   "cell_type": "code",
   "execution_count": null,
   "metadata": {},
   "outputs": [],
   "source": []
  },
  {
   "cell_type": "code",
   "execution_count": null,
   "metadata": {},
   "outputs": [],
   "source": []
  },
  {
   "cell_type": "code",
   "execution_count": null,
   "metadata": {},
   "outputs": [],
   "source": []
  },
  {
   "cell_type": "code",
   "execution_count": null,
   "metadata": {},
   "outputs": [],
   "source": []
  },
  {
   "cell_type": "code",
   "execution_count": null,
   "metadata": {},
   "outputs": [],
   "source": []
  }
 ],
 "metadata": {
  "kernelspec": {
   "display_name": "Python 3",
   "language": "python",
   "name": "python3"
  },
  "language_info": {
   "codemirror_mode": {
    "name": "ipython",
    "version": 3
   },
   "file_extension": ".py",
   "mimetype": "text/x-python",
   "name": "python",
   "nbconvert_exporter": "python",
   "pygments_lexer": "ipython3",
   "version": "3.6.6"
  }
 },
 "nbformat": 4,
 "nbformat_minor": 2
}
