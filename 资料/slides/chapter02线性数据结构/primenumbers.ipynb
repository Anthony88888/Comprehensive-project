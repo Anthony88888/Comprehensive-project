{
 "cells": [
  {
   "cell_type": "markdown",
   "metadata": {},
   "source": [
    "一、求100内的素数"
   ]
  },
  {
   "cell_type": "code",
   "execution_count": 5,
   "metadata": {},
   "outputs": [
    {
     "name": "stdout",
     "output_type": "stream",
     "text": [
      "9592\n",
      "0.285017\n",
      "------------------------------\n"
     ]
    }
   ],
   "source": [
    "#1 基本求解\n",
    "# 按照定义，从1 开始 到 n-1都没有找到整除它的数，就是质数\n",
    "import datetime\n",
    "\n",
    "start = datetime.datetime.now()\n",
    "n = 100000\n",
    "count = 0\n",
    "\n",
    "for x in range(2, n):\n",
    "    for i in range(2, int(x**0.5)+1):\n",
    "        if x % i == 0:\n",
    "            break\n",
    "    else:\n",
    "        count += 1\n",
    "        #print(x)\n",
    "\n",
    "delta = (datetime.datetime.now() - start).total_seconds()\n",
    "print(count)\n",
    "print(delta)\n",
    "print('-' * 30)\n"
   ]
  },
  {
   "cell_type": "code",
   "execution_count": 6,
   "metadata": {},
   "outputs": [
    {
     "name": "stdout",
     "output_type": "stream",
     "text": [
      "9592\n",
      "0.159009\n",
      "------------------------------\n"
     ]
    }
   ],
   "source": [
    "#1 奇数\n",
    "# 按照定义，从1 开始 到 n-1都没有找到整除它的数，就是质数\n",
    "import datetime\n",
    "\n",
    "start = datetime.datetime.now()\n",
    "n = 100000\n",
    "#print(2)\n",
    "count = 1\n",
    "\n",
    "for x in range(3, n, 2):\n",
    "    for i in range(3, int(x**0.5)+1, 2):\n",
    "        if x % i == 0:\n",
    "            break\n",
    "    else:\n",
    "        count += 1\n",
    "        #print(x)\n",
    "\n",
    "delta = (datetime.datetime.now() - start).total_seconds()\n",
    "print(count)\n",
    "print(delta)\n",
    "print('-' * 30)"
   ]
  },
  {
   "cell_type": "code",
   "execution_count": 10,
   "metadata": {},
   "outputs": [
    {
     "name": "stdout",
     "output_type": "stream",
     "text": [
      "9592\n",
      "3.779216\n",
      "------------------------------\n"
     ]
    }
   ],
   "source": [
    "#2 奇数 质数列表\n",
    "# 按照定义，从1 开始 到 n-1都没有找到整除它的数，就是质数\n",
    "# 合数一定是质数的乘积，合数分解后，一定是质数的乘积，合数一定可以找到一个质数来整除的\n",
    "import datetime\n",
    "\n",
    "start = datetime.datetime.now()\n",
    "n = 100000\n",
    "#print(2)\n",
    "count = 1\n",
    "primenumbers = []\n",
    "\n",
    "for x in range(3, n, 2): # 奇数\n",
    "    for i in primenumbers: # 从质数列表中提取质数\n",
    "        if x % i == 0: # 被质数整除了，说明是合数\n",
    "            break\n",
    "    else: # 质数\n",
    "        count += 1\n",
    "        primenumbers.append(x)\n",
    "\n",
    "delta = (datetime.datetime.now() - start).total_seconds()\n",
    "print(count)\n",
    "print(delta)\n",
    "print('-' * 30)"
   ]
  },
  {
   "cell_type": "code",
   "execution_count": 16,
   "metadata": {},
   "outputs": [
    {
     "name": "stdout",
     "output_type": "stream",
     "text": [
      "25\n",
      "0.001\n",
      "[3, 5, 7, 11, 13, 17, 19, 23, 29, 31, 37, 41, 43, 47, 53, 59, 61, 67, 71, 73, 79, 83, 89, 97]\n",
      "------------------------------\n"
     ]
    }
   ],
   "source": [
    "#3 奇数 质数列表，改进，判断所谓的“中点”， 开方值\n",
    "# 按照定义，从1 开始 到 n-1都没有找到整除它的数，就是质数\n",
    "# 合数一定是质数的乘积，合数分解后，一定是质数的乘积，合数一定可以找到一个质数来整除的\n",
    "import datetime\n",
    "\n",
    "start = datetime.datetime.now()\n",
    "n = 100\n",
    "#print(2)\n",
    "count = 1\n",
    "primenumbers = []\n",
    "\n",
    "for x in range(3, n, 2): # 奇数\n",
    "    flag = True # 假定 flag 是质数\n",
    "    edge = int(x**0.5)\n",
    "    for i in primenumbers: # 从质数列表中提取质数\n",
    "        if x % i == 0: # 被质数整除了，说明是合数\n",
    "            flag = False\n",
    "            break\n",
    "        if i > edge: # 质数\n",
    "            flag = True\n",
    "            break\n",
    "    if flag: # 质数\n",
    "        count += 1\n",
    "        primenumbers.append(x)\n",
    "\n",
    "delta = (datetime.datetime.now() - start).total_seconds()\n",
    "print(count)\n",
    "print(delta)\n",
    "print(primenumbers)\n",
    "print('-' * 30)"
   ]
  },
  {
   "cell_type": "code",
   "execution_count": null,
   "metadata": {},
   "outputs": [],
   "source": []
  },
  {
   "cell_type": "code",
   "execution_count": null,
   "metadata": {},
   "outputs": [],
   "source": []
  },
  {
   "cell_type": "code",
   "execution_count": null,
   "metadata": {},
   "outputs": [],
   "source": []
  },
  {
   "cell_type": "code",
   "execution_count": null,
   "metadata": {},
   "outputs": [],
   "source": []
  },
  {
   "cell_type": "code",
   "execution_count": null,
   "metadata": {},
   "outputs": [],
   "source": []
  },
  {
   "cell_type": "code",
   "execution_count": null,
   "metadata": {},
   "outputs": [],
   "source": []
  },
  {
   "cell_type": "code",
   "execution_count": null,
   "metadata": {},
   "outputs": [],
   "source": []
  },
  {
   "cell_type": "code",
   "execution_count": null,
   "metadata": {},
   "outputs": [],
   "source": []
  },
  {
   "cell_type": "code",
   "execution_count": null,
   "metadata": {},
   "outputs": [],
   "source": []
  },
  {
   "cell_type": "code",
   "execution_count": null,
   "metadata": {},
   "outputs": [],
   "source": []
  },
  {
   "cell_type": "code",
   "execution_count": null,
   "metadata": {},
   "outputs": [],
   "source": []
  },
  {
   "cell_type": "code",
   "execution_count": null,
   "metadata": {},
   "outputs": [],
   "source": []
  },
  {
   "cell_type": "code",
   "execution_count": null,
   "metadata": {},
   "outputs": [],
   "source": []
  },
  {
   "cell_type": "code",
   "execution_count": null,
   "metadata": {},
   "outputs": [],
   "source": []
  },
  {
   "cell_type": "code",
   "execution_count": null,
   "metadata": {},
   "outputs": [],
   "source": []
  },
  {
   "cell_type": "code",
   "execution_count": null,
   "metadata": {},
   "outputs": [],
   "source": []
  },
  {
   "cell_type": "code",
   "execution_count": null,
   "metadata": {},
   "outputs": [],
   "source": []
  },
  {
   "cell_type": "code",
   "execution_count": null,
   "metadata": {},
   "outputs": [],
   "source": []
  },
  {
   "cell_type": "code",
   "execution_count": null,
   "metadata": {},
   "outputs": [],
   "source": []
  },
  {
   "cell_type": "code",
   "execution_count": null,
   "metadata": {},
   "outputs": [],
   "source": []
  },
  {
   "cell_type": "code",
   "execution_count": null,
   "metadata": {},
   "outputs": [],
   "source": []
  },
  {
   "cell_type": "code",
   "execution_count": null,
   "metadata": {},
   "outputs": [],
   "source": []
  },
  {
   "cell_type": "code",
   "execution_count": null,
   "metadata": {},
   "outputs": [],
   "source": []
  },
  {
   "cell_type": "code",
   "execution_count": null,
   "metadata": {},
   "outputs": [],
   "source": []
  },
  {
   "cell_type": "code",
   "execution_count": null,
   "metadata": {},
   "outputs": [],
   "source": []
  }
 ],
 "metadata": {
  "kernelspec": {
   "display_name": "Python 3",
   "language": "python",
   "name": "python3"
  },
  "language_info": {
   "codemirror_mode": {
    "name": "ipython",
    "version": 3
   },
   "file_extension": ".py",
   "mimetype": "text/x-python",
   "name": "python",
   "nbconvert_exporter": "python",
   "pygments_lexer": "ipython3",
   "version": "3.6.6"
  }
 },
 "nbformat": 4,
 "nbformat_minor": 2
}
