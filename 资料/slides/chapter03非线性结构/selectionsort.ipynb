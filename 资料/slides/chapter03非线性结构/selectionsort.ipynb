{
 "cells": [
  {
   "cell_type": "code",
   "execution_count": 20,
   "metadata": {},
   "outputs": [
    {
     "name": "stdout",
     "output_type": "stream",
     "text": [
      "9  |  [1, 9, 8, 5, 6, 7, 4, 3, 2]\n",
      "[9, 8, 7, 6, 5, 4, 3, 2, 1]\n",
      "36 7\n"
     ]
    }
   ],
   "source": [
    "nums = [1, 9, 8, 5, 6, 7, 4, 3, 2]\n",
    "length = len(nums)\n",
    "print(length, ' | ', nums)\n",
    "count_iter = 0\n",
    "count_swap = 0\n",
    "\n",
    "\n",
    "for i in range(length - 1):\n",
    "    maxindex = i\n",
    "    for j in range(i+1, length):\n",
    "        count_iter += 1\n",
    "        if nums[maxindex] < nums[j]:\n",
    "            maxindex = j\n",
    "    \n",
    "    if i != maxindex:\n",
    "        nums[i], nums[maxindex] = nums[maxindex], nums[i]\n",
    "        count_swap += 1\n",
    "print(nums)\n",
    "print(count_iter, count_swap)"
   ]
  },
  {
   "cell_type": "code",
   "execution_count": 23,
   "metadata": {},
   "outputs": [
    {
     "name": "stdout",
     "output_type": "stream",
     "text": [
      "6  |  [1, 1, 1, 1, 1, 2]\n",
      "~~~~~ 5 -2\n",
      "~~~~~ 1 -2\n",
      "[2, 1, 1, 1, 1, 1]\n",
      "8 1\n"
     ]
    }
   ],
   "source": [
    "nums = [1, 9, 8, 5, 6, 7, 4, 3, 2]\n",
    "\n",
    "nums = [1,1,1,1,1,2]\n",
    "\n",
    "length = len(nums)\n",
    "print(length, ' | ', nums)\n",
    "count_iter = 0\n",
    "count_swap = 0\n",
    "\n",
    "# 1 9 2\n",
    "for i in range(length//2): # length - 1\n",
    "    maxindex = i # 假设\n",
    "    minindex = -i - 1 #-1 - i#length - 1 - i\n",
    "    \n",
    "    for j in range(i+1, length - i):\n",
    "        count_iter += 1\n",
    "        if nums[maxindex] < nums[j]:\n",
    "            maxindex = j\n",
    "        if nums[minindex] > nums[-j-1]:\n",
    "            minindex = -j - 1 #j\n",
    "    \n",
    "    #print(\"~~~~~\", maxindex, minindex)\n",
    "    if nums[maxindex] == nums[minindex]:\n",
    "        break\n",
    "    \n",
    "    if i != maxindex:\n",
    "        nums[i], nums[maxindex] = nums[maxindex], nums[i]\n",
    "        count_swap += 1 # 交换过，i对应数应该是最大数\n",
    "        if i - length == minindex: # 交换后，如果有影响，则修正minindex\n",
    "            minindex = maxindex - length\n",
    "    \n",
    "    if minindex != -i-1 and nums[minindex] != nums[-i-1]: #and minindex != length - 1 - i:\n",
    "        nums[-i-1], nums[minindex] = nums[minindex], nums[-i-1]\n",
    "        count_swap += 1\n",
    "    \n",
    "print(nums)\n",
    "print(count_iter, count_swap)"
   ]
  },
  {
   "cell_type": "code",
   "execution_count": null,
   "metadata": {},
   "outputs": [],
   "source": []
  },
  {
   "cell_type": "code",
   "execution_count": null,
   "metadata": {},
   "outputs": [],
   "source": []
  },
  {
   "cell_type": "code",
   "execution_count": null,
   "metadata": {},
   "outputs": [],
   "source": []
  },
  {
   "cell_type": "code",
   "execution_count": null,
   "metadata": {},
   "outputs": [],
   "source": []
  },
  {
   "cell_type": "code",
   "execution_count": null,
   "metadata": {},
   "outputs": [],
   "source": []
  },
  {
   "cell_type": "code",
   "execution_count": null,
   "metadata": {},
   "outputs": [],
   "source": []
  },
  {
   "cell_type": "code",
   "execution_count": null,
   "metadata": {},
   "outputs": [],
   "source": []
  },
  {
   "cell_type": "code",
   "execution_count": null,
   "metadata": {},
   "outputs": [],
   "source": []
  },
  {
   "cell_type": "code",
   "execution_count": null,
   "metadata": {},
   "outputs": [],
   "source": []
  },
  {
   "cell_type": "code",
   "execution_count": null,
   "metadata": {},
   "outputs": [],
   "source": []
  },
  {
   "cell_type": "code",
   "execution_count": null,
   "metadata": {},
   "outputs": [],
   "source": []
  }
 ],
 "metadata": {
  "kernelspec": {
   "display_name": "Python 3",
   "language": "python",
   "name": "python3"
  },
  "language_info": {
   "codemirror_mode": {
    "name": "ipython",
    "version": 3
   },
   "file_extension": ".py",
   "mimetype": "text/x-python",
   "name": "python",
   "nbconvert_exporter": "python",
   "pygments_lexer": "ipython3",
   "version": "3.6.6"
  }
 },
 "nbformat": 4,
 "nbformat_minor": 2
}
